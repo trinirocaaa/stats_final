{
 "cells": [
  {
   "cell_type": "code",
   "execution_count": null,
   "metadata": {},
   "outputs": [],
   "source": [
    "# src/models/svm_model.py\n",
    "from sklearn.svm import SVC\n",
    "from sklearn.metrics import classification_report\n",
    "from sklearn.model_selection import cross_val_score\n",
    "\n",
    "def train_svm(X_train_tfidf, y_train):\n",
    "    \"\"\"Train an SVM classifier.\"\"\"\n",
    "    classifier = SVC(kernel='linear')\n",
    "    classifier.fit(X_train_tfidf, y_train)\n",
    "    return classifier\n",
    "\n",
    "def evaluate_model(classifier, X_test_tfidf, y_test, X_train_tfidf, y_train):\n",
    "    \"\"\"Evaluate the classifier and print results.\"\"\"\n",
    "    y_pred = classifier.predict(X_test_tfidf)\n",
    "    print(\"SVM Classification Report:\\n\", classification_report(y_test, y_pred))\n",
    "    scores = cross_val_score(classifier, X_train_tfidf, y_train, cv=5, scoring='f1_macro')\n",
    "    print(\"SVM Cross-Validation F1 Scores:\", scores)\n",
    "    print(\"Mean F1 Score:\", scores.mean())\n",
    "    return y_pred"
   ]
  }
 ],
 "metadata": {
  "language_info": {
   "name": "python"
  }
 },
 "nbformat": 4,
 "nbformat_minor": 2
}
